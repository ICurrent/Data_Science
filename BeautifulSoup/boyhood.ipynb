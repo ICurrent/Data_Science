{
 "cells": [
  {
   "cell_type": "code",
   "execution_count": 2,
   "metadata": {},
   "outputs": [],
   "source": [
    "from bs4 import BeautifulSoup\n",
    "import os\n",
    "import pandas as pd\n",
    "import numpy as np\n",
    "\n",
    "pd.set_option('display.max_row',50)"
   ]
  },
  {
   "cell_type": "code",
   "execution_count": 3,
   "metadata": {},
   "outputs": [],
   "source": [
    "with open('boyhood.html', 'r') as f:\n",
    "    content = f.read()\n",
    "\n",
    "    soup = BeautifulSoup(content, 'html')\n",
    "    #print(soup.prettify())"
   ]
  },
  {
   "cell_type": "code",
   "execution_count": 4,
   "metadata": {},
   "outputs": [
    {
     "name": "stdout",
     "output_type": "stream",
     "text": [
      "Killjoys: 100 'NoneType' object has no attribute 'text'\n",
      "Chelsea: 100 'NoneType' object has no attribute 'text'\n",
      "Power: 75 'NoneType' object has no attribute 'text'\n",
      "It: 89 'NoneType' object has no attribute 'text'\n",
      "Home Again: 89 'NoneType' object has no attribute 'text'\n",
      "9/11: 89 'NoneType' object has no attribute 'text'\n",
      "Fallen: 100 'NoneType' object has no attribute 'text'\n",
      "Blood Ransom: 42 'NoneType' object has no attribute 'text'\n",
      "Killjoys: 100 'NoneType' object has no attribute 'text'\n",
      "Chelsea: 100 'NoneType' object has no attribute 'text'\n",
      "Power: 75 'NoneType' object has no attribute 'text'\n",
      "Marvel's The Defenders: 75 'NoneType' object has no attribute 'a'\n",
      "Marvel's The Defenders: 75 'NoneType' object has no attribute 'a'\n",
      "Marvel's The Defenders: 75 'NoneType' object has no attribute 'a'\n",
      "Marvel's The Defenders: 75 'NoneType' object has no attribute 'a'\n",
      "Marvel's The Defenders: 75 'NoneType' object has no attribute 'a'\n",
      "Marvel's The Defenders: 75 'NoneType' object has no attribute 'a'\n"
     ]
    }
   ],
   "source": [
    "list = soup.find_all('tr')\n",
    "df_list = []\n",
    "\n",
    "for _ in list:\n",
    "    try:\n",
    "        title = _.find('td', class_ =\"middle_col\").a.text\n",
    "        rating = _.find('span', class_ =\"tMeterScore\").text.strip('%')\n",
    "        df_list.append({'title':title, 'rating':rating})\n",
    "\n",
    "    except Exception as e:\n",
    "        print(title + ': ' + str(rating) + ' ' + str(e))\n",
    "    \n",
    "\n",
    "\n",
    "df = pd.DataFrame(df_list, columns=['title', 'rating'])"
   ]
  },
  {
   "cell_type": "code",
   "execution_count": 5,
   "metadata": {},
   "outputs": [
    {
     "data": {
      "text/html": [
       "<div>\n",
       "<style scoped>\n",
       "    .dataframe tbody tr th:only-of-type {\n",
       "        vertical-align: middle;\n",
       "    }\n",
       "\n",
       "    .dataframe tbody tr th {\n",
       "        vertical-align: top;\n",
       "    }\n",
       "\n",
       "    .dataframe thead th {\n",
       "        text-align: right;\n",
       "    }\n",
       "</style>\n",
       "<table border=\"1\" class=\"dataframe\">\n",
       "  <thead>\n",
       "    <tr style=\"text-align: right;\">\n",
       "      <th></th>\n",
       "      <th>title</th>\n",
       "      <th>rating</th>\n",
       "    </tr>\n",
       "  </thead>\n",
       "  <tbody>\n",
       "    <tr>\n",
       "      <th>0</th>\n",
       "      <td>Room 104</td>\n",
       "      <td>84</td>\n",
       "    </tr>\n",
       "    <tr>\n",
       "      <th>1</th>\n",
       "      <td>Narcos</td>\n",
       "      <td>100</td>\n",
       "    </tr>\n",
       "    <tr>\n",
       "      <th>2</th>\n",
       "      <td>Game of Thrones</td>\n",
       "      <td>96</td>\n",
       "    </tr>\n",
       "    <tr>\n",
       "      <th>3</th>\n",
       "      <td>Marvel's The Defenders</td>\n",
       "      <td>75</td>\n",
       "    </tr>\n",
       "    <tr>\n",
       "      <th>4</th>\n",
       "      <td>Rick and Morty</td>\n",
       "      <td>100</td>\n",
       "    </tr>\n",
       "    <tr>\n",
       "      <th>5</th>\n",
       "      <td>The Tick</td>\n",
       "      <td>92</td>\n",
       "    </tr>\n",
       "    <tr>\n",
       "      <th>6</th>\n",
       "      <td>The Sinner</td>\n",
       "      <td>94</td>\n",
       "    </tr>\n",
       "    <tr>\n",
       "      <th>7</th>\n",
       "      <td>The Mist</td>\n",
       "      <td>62</td>\n",
       "    </tr>\n",
       "    <tr>\n",
       "      <th>8</th>\n",
       "      <td>Twin Peaks</td>\n",
       "      <td>94</td>\n",
       "    </tr>\n",
       "    <tr>\n",
       "      <th>9</th>\n",
       "      <td>Insecure</td>\n",
       "      <td>100</td>\n",
       "    </tr>\n",
       "  </tbody>\n",
       "</table>\n",
       "</div>"
      ],
      "text/plain": [
       "                    title rating\n",
       "0                Room 104     84\n",
       "1                  Narcos    100\n",
       "2         Game of Thrones     96\n",
       "3  Marvel's The Defenders     75\n",
       "4          Rick and Morty    100\n",
       "5                The Tick     92\n",
       "6              The Sinner     94\n",
       "7                The Mist     62\n",
       "8              Twin Peaks     94\n",
       "9                Insecure    100"
      ]
     },
     "execution_count": 5,
     "metadata": {},
     "output_type": "execute_result"
    }
   ],
   "source": [
    "df.head(10)"
   ]
  }
 ],
 "metadata": {
  "kernelspec": {
   "display_name": "Python 3.8.1 32-bit",
   "language": "python",
   "name": "python3"
  },
  "language_info": {
   "codemirror_mode": {
    "name": "ipython",
    "version": 3
   },
   "file_extension": ".py",
   "mimetype": "text/x-python",
   "name": "python",
   "nbconvert_exporter": "python",
   "pygments_lexer": "ipython3",
   "version": "3.8.1"
  },
  "orig_nbformat": 4,
  "vscode": {
   "interpreter": {
    "hash": "bffce1a06dec1475aa5c8b2ff56afe0d105ef2f8d81ed5b29a6d40ee419c432d"
   }
  }
 },
 "nbformat": 4,
 "nbformat_minor": 2
}
